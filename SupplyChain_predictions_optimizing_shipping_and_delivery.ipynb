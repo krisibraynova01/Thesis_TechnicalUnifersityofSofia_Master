{
  "nbformat": 4,
  "nbformat_minor": 0,
  "metadata": {
    "colab": {
      "provenance": [],
      "authorship_tag": "ABX9TyPX5CyhExGMqEits2RjY38Y",
      "include_colab_link": true
    },
    "kernelspec": {
      "name": "python3",
      "display_name": "Python 3"
    },
    "language_info": {
      "name": "python"
    }
  },
  "cells": [
    {
      "cell_type": "markdown",
      "metadata": {
        "id": "view-in-github",
        "colab_type": "text"
      },
      "source": [
        "<a href=\"https://colab.research.google.com/github/krisibraynova01/Thesis_TechnicalUnifersityofSofia_Master/blob/main/SupplyChain_predictions_optimizing_shipping_and_delivery.ipynb\" target=\"_parent\"><img src=\"https://colab.research.google.com/assets/colab-badge.svg\" alt=\"Open In Colab\"/></a>"
      ]
    },
    {
      "cell_type": "code",
      "execution_count": 72,
      "metadata": {
        "id": "vwzgYHav9kJf"
      },
      "outputs": [],
      "source": [
        "import pandas as pd\n",
        "import numpy as np\n",
        "import matplotlib.pyplot as plt\n",
        "import seaborn as sns\n",
        "from sklearn.feature_selection import SelectKBest\n",
        "from sklearn.feature_selection import chi2\n",
        "from sklearn.model_selection import train_test_split, cross_val_score\n",
        "from sklearn.preprocessing import StandardScaler, OneHotEncoder\n",
        "from sklearn.metrics import mean_squared_error\n",
        "from sklearn.metrics import accuracy_score, precision_score, recall_score, f1_score, confusion_matrix, classification_report, mean_squared_error, mean_absolute_error, r2_score\n",
        "import scipy.stats as stats\n",
        "from sklearn.linear_model import Lasso\n",
        "from sklearn.ensemble import RandomForestClassifier\n",
        "from sklearn.linear_model import LinearRegression\n",
        "from sklearn.ensemble import GradientBoostingRegressor\n"
      ]
    },
    {
      "cell_type": "code",
      "source": [
        "df = pd.read_csv(\"SupplyChain_preprocessed.csv\")"
      ],
      "metadata": {
        "colab": {
          "base_uri": "https://localhost:8080/"
        },
        "id": "IwLUMJrK9pvQ",
        "outputId": "fa92cb03-3a28-4440-fd70-3e45aa9e3133"
      },
      "execution_count": 73,
      "outputs": [
        {
          "output_type": "stream",
          "name": "stderr",
          "text": [
            "<ipython-input-73-ca8d0b4c8251>:1: DtypeWarning: Columns (15) have mixed types. Specify dtype option on import or set low_memory=False.\n",
            "  df = pd.read_csv(\"SupplyChain_preprocessed.csv\")\n"
          ]
        }
      ]
    },
    {
      "cell_type": "code",
      "source": [
        "df['Order Date']  = pd.to_datetime(df['Order Date'], errors='coerce')\n",
        "df['Shipping Date']  = pd.to_datetime(df['Shipping Date'], errors='coerce')"
      ],
      "metadata": {
        "id": "LPaYy3sz9rEA"
      },
      "execution_count": 74,
      "outputs": []
    },
    {
      "cell_type": "code",
      "source": [
        "df['Shipping Year'] = df['Shipping Date'].dt.year\n",
        "df['Shipping Month'] = df['Shipping Date'].dt.month\n",
        "df['Order Year'] = df['Order Date'].dt.year\n",
        "df['Order Month'] = df['Order Date'].dt.month\n",
        "df['Days Between Order and Shipping'] = (df['Shipping Date'] - df['Order Date']).dt.days"
      ],
      "metadata": {
        "id": "iEFuXi2u9szH"
      },
      "execution_count": 75,
      "outputs": []
    },
    {
      "cell_type": "code",
      "source": [
        "df = df.fillna(df.median(numeric_only=True))"
      ],
      "metadata": {
        "id": "dNWcCcwy-Q68"
      },
      "execution_count": 76,
      "outputs": []
    },
    {
      "cell_type": "code",
      "source": [
        "categorical_columns = ['Delivery Status', 'Shipping Mode', 'Order Region', 'Order State', 'Order City', 'Order Country', 'Customer City', 'Customer Country']\n",
        "for col in categorical_columns:\n",
        "    df[col] = df[col].fillna(df[col].mode()[0])"
      ],
      "metadata": {
        "id": "N-za5MMX-swT"
      },
      "execution_count": 77,
      "outputs": []
    },
    {
      "cell_type": "code",
      "source": [
        "df = df.apply(lambda x: x.astype('category').cat.codes if x.dtype == 'object' else x)\n",
        "\n",
        "print(df)"
      ],
      "metadata": {
        "colab": {
          "base_uri": "https://localhost:8080/"
        },
        "id": "2kmLJ2E-ASvO",
        "outputId": "e3584af5-5e69-4bb6-a5f4-b5aa4bbcb41e"
      },
      "execution_count": 78,
      "outputs": [
        {
          "output_type": "stream",
          "name": "stdout",
          "text": [
            "        Type  Days for shipping (real)  Days for shipment (scheduled)  \\\n",
            "0          1                         3                              4   \n",
            "1          3                         5                              4   \n",
            "2          0                         4                              4   \n",
            "3          1                         3                              4   \n",
            "4          2                         2                              4   \n",
            "...      ...                       ...                            ...   \n",
            "180514     0                         4                              4   \n",
            "180515     1                         3                              2   \n",
            "180516     3                         5                              4   \n",
            "180517     2                         3                              4   \n",
            "180518     2                         4                              4   \n",
            "\n",
            "        Benefit per order  Sales per customer  Delivery Status  \\\n",
            "0               91.250000          314.640015                0   \n",
            "1             -249.089996          311.359985                1   \n",
            "2             -247.779999          309.720001                3   \n",
            "3               22.860001          304.809998                0   \n",
            "4              134.210007          298.250000                0   \n",
            "...                   ...                 ...              ...   \n",
            "180514          40.000000          399.980011                3   \n",
            "180515        -613.770019          395.980011                1   \n",
            "180516         141.110001          391.980011                1   \n",
            "180517         186.229996          387.980011                0   \n",
            "180518         168.949997          383.980011                3   \n",
            "\n",
            "        Late_delivery_risk  Category Id  Category Name  Customer City  ...  \\\n",
            "0                        0           73             40             66  ...   \n",
            "1                        1           73             40             66  ...   \n",
            "2                        0           73             40            452  ...   \n",
            "3                        0           73             40            285  ...   \n",
            "4                        0           73             40             66  ...   \n",
            "...                    ...          ...            ...            ...  ...   \n",
            "180514                   0           45             18             59  ...   \n",
            "180515                   1           45             18             26  ...   \n",
            "180516                   1           45             18             55  ...   \n",
            "180517                   0           45             18             66  ...   \n",
            "180518                   0           45             18             66  ...   \n",
            "\n",
            "        Product Status  Shipping Mode          Order Date       Shipping Date  \\\n",
            "0                    0              3 2018-01-31 22:56:00 2018-02-03 22:56:00   \n",
            "1                    0              3 2018-01-13 12:27:00 2018-01-18 12:27:00   \n",
            "2                    0              3 2018-01-13 12:06:00 2018-01-17 12:06:00   \n",
            "3                    0              3 2018-01-13 11:45:00 2018-01-16 11:45:00   \n",
            "4                    0              3 2018-01-13 11:24:00 2018-01-15 11:24:00   \n",
            "...                ...            ...                 ...                 ...   \n",
            "180514               0              3 2016-01-16 03:40:00 2016-01-20 03:40:00   \n",
            "180515               0              2 2016-01-16 01:34:00 2016-01-19 01:34:00   \n",
            "180516               0              3 2016-01-15 21:00:00 2016-01-20 21:00:00   \n",
            "180517               0              3 2016-01-15 20:18:00 2016-01-18 20:18:00   \n",
            "180518               0              3 2016-01-15 18:54:00 2016-01-19 18:54:00   \n",
            "\n",
            "        Full Name  Shipping Year  Shipping Month  Order Year  Order Month  \\\n",
            "0            1876           2018               2        2018            1   \n",
            "1            5378           2018               1        2018            1   \n",
            "2            4429           2018               1        2018            1   \n",
            "3           12929           2018               1        2018            1   \n",
            "4           10638           2018               1        2018            1   \n",
            "...           ...            ...             ...         ...          ...   \n",
            "180514       8426           2016               1        2016            1   \n",
            "180515      11679           2016               1        2016            1   \n",
            "180516       6300           2016               1        2016            1   \n",
            "180517       9384           2016               1        2016            1   \n",
            "180518        658           2016               1        2016            1   \n",
            "\n",
            "        Days Between Order and Shipping  \n",
            "0                                     3  \n",
            "1                                     5  \n",
            "2                                     4  \n",
            "3                                     3  \n",
            "4                                     2  \n",
            "...                                 ...  \n",
            "180514                                4  \n",
            "180515                                3  \n",
            "180516                                5  \n",
            "180517                                3  \n",
            "180518                                4  \n",
            "\n",
            "[180519 rows x 53 columns]\n"
          ]
        }
      ]
    },
    {
      "cell_type": "code",
      "source": [
        "features  = [\n",
        "    'Days for shipment (scheduled)',\n",
        "    'Delivery Status',\n",
        "    'Late_delivery_risk',\n",
        "    'Category Id',\n",
        "    'Shipping Mode',\n",
        "    'Order Region',\n",
        "    'Order State',\n",
        "    'Order City',\n",
        "    'Order Country',\n",
        "    'Customer City',\n",
        "    'Customer Country',\n",
        "    'Shipping Year',\n",
        "    'Shipping Month',\n",
        "    'Order Year',\n",
        "    'Order Month',\n",
        "    'Days Between Order and Shipping'\n",
        "]"
      ],
      "metadata": {
        "id": "KSbfSrEj9vZv"
      },
      "execution_count": 79,
      "outputs": []
    },
    {
      "cell_type": "code",
      "source": [
        "target = 'Days for shipping (real)'"
      ],
      "metadata": {
        "id": "uTbEUaIY9xMp"
      },
      "execution_count": 80,
      "outputs": []
    },
    {
      "cell_type": "code",
      "source": [
        "X = df[features]"
      ],
      "metadata": {
        "id": "Rz9a86iK9yuI"
      },
      "execution_count": 81,
      "outputs": []
    },
    {
      "cell_type": "code",
      "source": [
        "y = df[target]"
      ],
      "metadata": {
        "id": "X00X4MBK93ur"
      },
      "execution_count": 82,
      "outputs": []
    },
    {
      "cell_type": "code",
      "source": [
        "X_train, X_test, y_train, y_test = train_test_split(X, y, test_size=0.3, random_state=42)"
      ],
      "metadata": {
        "id": "pAU5krqJ9_4w"
      },
      "execution_count": 83,
      "outputs": []
    },
    {
      "cell_type": "code",
      "source": [
        "scaler = StandardScaler()\n",
        "X_train_scaled = scaler.fit_transform(X_train)\n",
        "X_test_scaled = scaler.transform(X_test)"
      ],
      "metadata": {
        "id": "1VqfEHTz-AqJ"
      },
      "execution_count": 84,
      "outputs": []
    },
    {
      "cell_type": "code",
      "source": [
        "model = LinearRegression()"
      ],
      "metadata": {
        "id": "3rX9nI8u-DyT"
      },
      "execution_count": 85,
      "outputs": []
    },
    {
      "cell_type": "code",
      "source": [
        "model.fit(X_train_scaled, y_train)"
      ],
      "metadata": {
        "colab": {
          "base_uri": "https://localhost:8080/",
          "height": 75
        },
        "id": "PP7MwjvT-vJt",
        "outputId": "8d4adb23-4a35-4c80-9b39-7b289b292459"
      },
      "execution_count": 86,
      "outputs": [
        {
          "output_type": "execute_result",
          "data": {
            "text/plain": [
              "LinearRegression()"
            ],
            "text/html": [
              "<style>#sk-container-id-7 {color: black;background-color: white;}#sk-container-id-7 pre{padding: 0;}#sk-container-id-7 div.sk-toggleable {background-color: white;}#sk-container-id-7 label.sk-toggleable__label {cursor: pointer;display: block;width: 100%;margin-bottom: 0;padding: 0.3em;box-sizing: border-box;text-align: center;}#sk-container-id-7 label.sk-toggleable__label-arrow:before {content: \"▸\";float: left;margin-right: 0.25em;color: #696969;}#sk-container-id-7 label.sk-toggleable__label-arrow:hover:before {color: black;}#sk-container-id-7 div.sk-estimator:hover label.sk-toggleable__label-arrow:before {color: black;}#sk-container-id-7 div.sk-toggleable__content {max-height: 0;max-width: 0;overflow: hidden;text-align: left;background-color: #f0f8ff;}#sk-container-id-7 div.sk-toggleable__content pre {margin: 0.2em;color: black;border-radius: 0.25em;background-color: #f0f8ff;}#sk-container-id-7 input.sk-toggleable__control:checked~div.sk-toggleable__content {max-height: 200px;max-width: 100%;overflow: auto;}#sk-container-id-7 input.sk-toggleable__control:checked~label.sk-toggleable__label-arrow:before {content: \"▾\";}#sk-container-id-7 div.sk-estimator input.sk-toggleable__control:checked~label.sk-toggleable__label {background-color: #d4ebff;}#sk-container-id-7 div.sk-label input.sk-toggleable__control:checked~label.sk-toggleable__label {background-color: #d4ebff;}#sk-container-id-7 input.sk-hidden--visually {border: 0;clip: rect(1px 1px 1px 1px);clip: rect(1px, 1px, 1px, 1px);height: 1px;margin: -1px;overflow: hidden;padding: 0;position: absolute;width: 1px;}#sk-container-id-7 div.sk-estimator {font-family: monospace;background-color: #f0f8ff;border: 1px dotted black;border-radius: 0.25em;box-sizing: border-box;margin-bottom: 0.5em;}#sk-container-id-7 div.sk-estimator:hover {background-color: #d4ebff;}#sk-container-id-7 div.sk-parallel-item::after {content: \"\";width: 100%;border-bottom: 1px solid gray;flex-grow: 1;}#sk-container-id-7 div.sk-label:hover label.sk-toggleable__label {background-color: #d4ebff;}#sk-container-id-7 div.sk-serial::before {content: \"\";position: absolute;border-left: 1px solid gray;box-sizing: border-box;top: 0;bottom: 0;left: 50%;z-index: 0;}#sk-container-id-7 div.sk-serial {display: flex;flex-direction: column;align-items: center;background-color: white;padding-right: 0.2em;padding-left: 0.2em;position: relative;}#sk-container-id-7 div.sk-item {position: relative;z-index: 1;}#sk-container-id-7 div.sk-parallel {display: flex;align-items: stretch;justify-content: center;background-color: white;position: relative;}#sk-container-id-7 div.sk-item::before, #sk-container-id-7 div.sk-parallel-item::before {content: \"\";position: absolute;border-left: 1px solid gray;box-sizing: border-box;top: 0;bottom: 0;left: 50%;z-index: -1;}#sk-container-id-7 div.sk-parallel-item {display: flex;flex-direction: column;z-index: 1;position: relative;background-color: white;}#sk-container-id-7 div.sk-parallel-item:first-child::after {align-self: flex-end;width: 50%;}#sk-container-id-7 div.sk-parallel-item:last-child::after {align-self: flex-start;width: 50%;}#sk-container-id-7 div.sk-parallel-item:only-child::after {width: 0;}#sk-container-id-7 div.sk-dashed-wrapped {border: 1px dashed gray;margin: 0 0.4em 0.5em 0.4em;box-sizing: border-box;padding-bottom: 0.4em;background-color: white;}#sk-container-id-7 div.sk-label label {font-family: monospace;font-weight: bold;display: inline-block;line-height: 1.2em;}#sk-container-id-7 div.sk-label-container {text-align: center;}#sk-container-id-7 div.sk-container {/* jupyter's `normalize.less` sets `[hidden] { display: none; }` but bootstrap.min.css set `[hidden] { display: none !important; }` so we also need the `!important` here to be able to override the default hidden behavior on the sphinx rendered scikit-learn.org. See: https://github.com/scikit-learn/scikit-learn/issues/21755 */display: inline-block !important;position: relative;}#sk-container-id-7 div.sk-text-repr-fallback {display: none;}</style><div id=\"sk-container-id-7\" class=\"sk-top-container\"><div class=\"sk-text-repr-fallback\"><pre>LinearRegression()</pre><b>In a Jupyter environment, please rerun this cell to show the HTML representation or trust the notebook. <br />On GitHub, the HTML representation is unable to render, please try loading this page with nbviewer.org.</b></div><div class=\"sk-container\" hidden><div class=\"sk-item\"><div class=\"sk-estimator sk-toggleable\"><input class=\"sk-toggleable__control sk-hidden--visually\" id=\"sk-estimator-id-7\" type=\"checkbox\" checked><label for=\"sk-estimator-id-7\" class=\"sk-toggleable__label sk-toggleable__label-arrow\">LinearRegression</label><div class=\"sk-toggleable__content\"><pre>LinearRegression()</pre></div></div></div></div></div>"
            ]
          },
          "metadata": {},
          "execution_count": 86
        }
      ]
    },
    {
      "cell_type": "code",
      "source": [
        "y_pred = model.predict(X_test_scaled)"
      ],
      "metadata": {
        "id": "IzOaJLmcAafG"
      },
      "execution_count": 87,
      "outputs": []
    },
    {
      "cell_type": "code",
      "source": [
        "mse = mean_squared_error(y_test, y_pred)\n",
        "mae = mean_absolute_error(y_test, y_pred)\n",
        "r2 = r2_score(y_test, y_pred)\n",
        "\n",
        "print(\"Mean Squared Error:\", mse)\n",
        "print(\"Mean Absolute Error:\", mae)\n",
        "print(\"R-squared:\", r2)"
      ],
      "metadata": {
        "colab": {
          "base_uri": "https://localhost:8080/"
        },
        "id": "E1k4O3rvAdEt",
        "outputId": "bed840be-de82-4fab-de40-4e31209951cb"
      },
      "execution_count": 88,
      "outputs": [
        {
          "output_type": "stream",
          "name": "stdout",
          "text": [
            "Mean Squared Error: 0.015140308906151817\n",
            "Mean Absolute Error: 0.07165878059493412\n",
            "R-squared: 0.9942581633147924\n"
          ]
        }
      ]
    },
    {
      "cell_type": "code",
      "source": [
        "comparison_df = pd.DataFrame({\n",
        "    'Actual Days for Shipping': y_test,\n",
        "    'Predicted Days for Shipping': y_pred,\n",
        "    'Difference': y_test - y_pred\n",
        "})\n",
        "\n",
        "print(comparison_df)\n",
        "\n",
        "# Plotting actual vs predicted days for shipping\n",
        "plt.figure(figsize=(10, 6))\n",
        "plt.plot(y_test.values, label='Actual Days for Shipping')\n",
        "plt.plot(y_pred, label='Predicted Days for Shipping', linestyle='--')\n",
        "plt.xlabel('Index')\n",
        "plt.ylabel('Days for Shipping')\n",
        "plt.title('Actual vs Predicted Days for Shipping')\n",
        "plt.legend()\n",
        "plt.show()\n"
      ],
      "metadata": {
        "colab": {
          "base_uri": "https://localhost:8080/",
          "height": 807
        },
        "id": "_ve0n3EFAfOa",
        "outputId": "4b86f9b3-7158-4747-f010-7ec04e9020f3"
      },
      "execution_count": 89,
      "outputs": [
        {
          "output_type": "stream",
          "name": "stdout",
          "text": [
            "        Actual Days for Shipping  Predicted Days for Shipping  Difference\n",
            "80120                          5                     5.037598   -0.037598\n",
            "19670                          2                     2.013034   -0.013034\n",
            "114887                         2                     2.043378   -0.043378\n",
            "120110                         5                     5.037166   -0.037166\n",
            "56658                          2                     2.044075   -0.044075\n",
            "...                          ...                          ...         ...\n",
            "6851                           4                     3.934373    0.065627\n",
            "60364                          6                     5.959986    0.040014\n",
            "71620                          1                     0.429274    0.570726\n",
            "78089                          6                     5.962701    0.037299\n",
            "153327                         2                     2.045296   -0.045296\n",
            "\n",
            "[54156 rows x 3 columns]\n"
          ]
        },
        {
          "output_type": "display_data",
          "data": {
            "text/plain": [
              "<Figure size 1000x600 with 1 Axes>"
            ],
            "image/png": "[encoded data removed]"
          },
          "metadata": {}
        }
      ]
    },
    {
      "cell_type": "code",
      "source": [
        "model = GradientBoostingRegressor(n_estimators=100, learning_rate=0.1, max_depth=3, random_state=42)"
      ],
      "metadata": {
        "id": "PUTDKPcGBM-n"
      },
      "execution_count": 90,
      "outputs": []
    },
    {
      "cell_type": "code",
      "source": [
        "model.fit(X_train_scaled, y_train)"
      ],
      "metadata": {
        "colab": {
          "base_uri": "https://localhost:8080/",
          "height": 75
        },
        "id": "CMSzfeUdBN2h",
        "outputId": "1422777f-b55d-4434-b2c4-f6bd8a19b230"
      },
      "execution_count": 91,
      "outputs": [
        {
          "output_type": "execute_result",
          "data": {
            "text/plain": [
              "GradientBoostingRegressor(random_state=42)"
            ],
            "text/html": [
              "<style>#sk-container-id-8 {color: black;background-color: white;}#sk-container-id-8 pre{padding: 0;}#sk-container-id-8 div.sk-toggleable {background-color: white;}#sk-container-id-8 label.sk-toggleable__label {cursor: pointer;display: block;width: 100%;margin-bottom: 0;padding: 0.3em;box-sizing: border-box;text-align: center;}#sk-container-id-8 label.sk-toggleable__label-arrow:before {content: \"▸\";float: left;margin-right: 0.25em;color: #696969;}#sk-container-id-8 label.sk-toggleable__label-arrow:hover:before {color: black;}#sk-container-id-8 div.sk-estimator:hover label.sk-toggleable__label-arrow:before {color: black;}#sk-container-id-8 div.sk-toggleable__content {max-height: 0;max-width: 0;overflow: hidden;text-align: left;background-color: #f0f8ff;}#sk-container-id-8 div.sk-toggleable__content pre {margin: 0.2em;color: black;border-radius: 0.25em;background-color: #f0f8ff;}#sk-container-id-8 input.sk-toggleable__control:checked~div.sk-toggleable__content {max-height: 200px;max-width: 100%;overflow: auto;}#sk-container-id-8 input.sk-toggleable__control:checked~label.sk-toggleable__label-arrow:before {content: \"▾\";}#sk-container-id-8 div.sk-estimator input.sk-toggleable__control:checked~label.sk-toggleable__label {background-color: #d4ebff;}#sk-container-id-8 div.sk-label input.sk-toggleable__control:checked~label.sk-toggleable__label {background-color: #d4ebff;}#sk-container-id-8 input.sk-hidden--visually {border: 0;clip: rect(1px 1px 1px 1px);clip: rect(1px, 1px, 1px, 1px);height: 1px;margin: -1px;overflow: hidden;padding: 0;position: absolute;width: 1px;}#sk-container-id-8 div.sk-estimator {font-family: monospace;background-color: #f0f8ff;border: 1px dotted black;border-radius: 0.25em;box-sizing: border-box;margin-bottom: 0.5em;}#sk-container-id-8 div.sk-estimator:hover {background-color: #d4ebff;}#sk-container-id-8 div.sk-parallel-item::after {content: \"\";width: 100%;border-bottom: 1px solid gray;flex-grow: 1;}#sk-container-id-8 div.sk-label:hover label.sk-toggleable__label {background-color: #d4ebff;}#sk-container-id-8 div.sk-serial::before {content: \"\";position: absolute;border-left: 1px solid gray;box-sizing: border-box;top: 0;bottom: 0;left: 50%;z-index: 0;}#sk-container-id-8 div.sk-serial {display: flex;flex-direction: column;align-items: center;background-color: white;padding-right: 0.2em;padding-left: 0.2em;position: relative;}#sk-container-id-8 div.sk-item {position: relative;z-index: 1;}#sk-container-id-8 div.sk-parallel {display: flex;align-items: stretch;justify-content: center;background-color: white;position: relative;}#sk-container-id-8 div.sk-item::before, #sk-container-id-8 div.sk-parallel-item::before {content: \"\";position: absolute;border-left: 1px solid gray;box-sizing: border-box;top: 0;bottom: 0;left: 50%;z-index: -1;}#sk-container-id-8 div.sk-parallel-item {display: flex;flex-direction: column;z-index: 1;position: relative;background-color: white;}#sk-container-id-8 div.sk-parallel-item:first-child::after {align-self: flex-end;width: 50%;}#sk-container-id-8 div.sk-parallel-item:last-child::after {align-self: flex-start;width: 50%;}#sk-container-id-8 div.sk-parallel-item:only-child::after {width: 0;}#sk-container-id-8 div.sk-dashed-wrapped {border: 1px dashed gray;margin: 0 0.4em 0.5em 0.4em;box-sizing: border-box;padding-bottom: 0.4em;background-color: white;}#sk-container-id-8 div.sk-label label {font-family: monospace;font-weight: bold;display: inline-block;line-height: 1.2em;}#sk-container-id-8 div.sk-label-container {text-align: center;}#sk-container-id-8 div.sk-container {/* jupyter's `normalize.less` sets `[hidden] { display: none; }` but bootstrap.min.css set `[hidden] { display: none !important; }` so we also need the `!important` here to be able to override the default hidden behavior on the sphinx rendered scikit-learn.org. See: https://github.com/scikit-learn/scikit-learn/issues/21755 */display: inline-block !important;position: relative;}#sk-container-id-8 div.sk-text-repr-fallback {display: none;}</style><div id=\"sk-container-id-8\" class=\"sk-top-container\"><div class=\"sk-text-repr-fallback\"><pre>GradientBoostingRegressor(random_state=42)</pre><b>In a Jupyter environment, please rerun this cell to show the HTML representation or trust the notebook. <br />On GitHub, the HTML representation is unable to render, please try loading this page with nbviewer.org.</b></div><div class=\"sk-container\" hidden><div class=\"sk-item\"><div class=\"sk-estimator sk-toggleable\"><input class=\"sk-toggleable__control sk-hidden--visually\" id=\"sk-estimator-id-8\" type=\"checkbox\" checked><label for=\"sk-estimator-id-8\" class=\"sk-toggleable__label sk-toggleable__label-arrow\">GradientBoostingRegressor</label><div class=\"sk-toggleable__content\"><pre>GradientBoostingRegressor(random_state=42)</pre></div></div></div></div></div>"
            ]
          },
          "metadata": {},
          "execution_count": 91
        }
      ]
    },
    {
      "cell_type": "code",
      "source": [
        "y_pred = model.predict(X_test_scaled)"
      ],
      "metadata": {
        "id": "ugSFaLBbBQbp"
      },
      "execution_count": 92,
      "outputs": []
    },
    {
      "cell_type": "code",
      "source": [
        "mse = mean_squared_error(y_test, y_pred)\n",
        "mae = mean_absolute_error(y_test, y_pred)\n",
        "r2 = r2_score(y_test, y_pred)\n",
        "\n",
        "print(\"Mean Squared Error:\", mse)\n",
        "print(\"Mean Absolute Error:\", mae)\n",
        "print(\"R-squared:\", r2)"
      ],
      "metadata": {
        "colab": {
          "base_uri": "https://localhost:8080/"
        },
        "id": "rdQ2uASGBavw",
        "outputId": "92ffe2f2-1423-4cb1-97ee-6cac2a55a0a2"
      },
      "execution_count": 93,
      "outputs": [
        {
          "output_type": "stream",
          "name": "stdout",
          "text": [
            "Mean Squared Error: 0.0005239134109111547\n",
            "Mean Absolute Error: 0.0015844137409306808\n",
            "R-squared: 0.9998013101805724\n"
          ]
        }
      ]
    },
    {
      "cell_type": "code",
      "source": [
        "comparison_df = pd.DataFrame({\n",
        "    'Actual Days for Shipping': y_test,\n",
        "    'Predicted Days for Shipping': y_pred,\n",
        "    'Difference': y_test - y_pred\n",
        "})\n",
        "\n",
        "print(comparison_df)\n",
        "\n",
        "# Plotting actual vs predicted days for shipping\n",
        "plt.figure(figsize=(10, 6))\n",
        "plt.plot(y_test.values, label='Actual Days for Shipping')\n",
        "plt.plot(y_pred, label='Predicted Days for Shipping', linestyle='--')\n",
        "plt.xlabel('Index')\n",
        "plt.ylabel('Days for Shipping')\n",
        "plt.title('Actual vs Predicted Days for Shipping')\n",
        "plt.legend()\n",
        "plt.show()"
      ],
      "metadata": {
        "colab": {
          "base_uri": "https://localhost:8080/",
          "height": 807
        },
        "id": "3BY-7fDMBfN8",
        "outputId": "4b707b2f-cb87-4c29-b165-62d2787df57f"
      },
      "execution_count": 94,
      "outputs": [
        {
          "output_type": "stream",
          "name": "stdout",
          "text": [
            "        Actual Days for Shipping  Predicted Days for Shipping  Difference\n",
            "80120                          5                     4.999922    0.000078\n",
            "19670                          2                     2.000264   -0.000264\n",
            "114887                         2                     2.000970   -0.000970\n",
            "120110                         5                     4.999880    0.000120\n",
            "56658                          2                     2.000630   -0.000630\n",
            "...                          ...                          ...         ...\n",
            "6851                           4                     3.999956    0.000044\n",
            "60364                          6                     5.999775    0.000225\n",
            "71620                          1                     0.992191    0.007809\n",
            "78089                          6                     5.999758    0.000242\n",
            "153327                         2                     1.999777    0.000223\n",
            "\n",
            "[54156 rows x 3 columns]\n"
          ]
        },
        {
          "output_type": "display_data",
          "data": {
            "text/plain": [
              "<Figure size 1000x600 with 1 Axes>"
            ],
            "image/png": "[encoded data removed]"
          },
          "metadata": {}
        }
      ]
    }
  ]
}